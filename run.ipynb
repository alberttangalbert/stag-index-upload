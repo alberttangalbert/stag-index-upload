{
 "cells": [
  {
   "cell_type": "code",
   "execution_count": null,
   "metadata": {},
   "outputs": [
    {
     "ename": "ModuleNotFoundError",
     "evalue": "No module named 'azure'",
     "output_type": "error",
     "traceback": [
      "\u001b[31m---------------------------------------------------------------------------\u001b[39m",
      "\u001b[31mModuleNotFoundError\u001b[39m                       Traceback (most recent call last)",
      "\u001b[36mCell\u001b[39m\u001b[36m \u001b[39m\u001b[32mIn[1]\u001b[39m\u001b[32m, line 1\u001b[39m\n\u001b[32m----> \u001b[39m\u001b[32m1\u001b[39m \u001b[38;5;28;01mfrom\u001b[39;00m\u001b[38;5;250m \u001b[39m\u001b[34;01mazure\u001b[39;00m\u001b[34;01m.\u001b[39;00m\u001b[34;01mcore\u001b[39;00m\u001b[34;01m.\u001b[39;00m\u001b[34;01mcredentials\u001b[39;00m\u001b[38;5;250m \u001b[39m\u001b[38;5;28;01mimport\u001b[39;00m AzureKeyCredential\n\u001b[32m      2\u001b[39m \u001b[38;5;28;01mfrom\u001b[39;00m\u001b[38;5;250m \u001b[39m\u001b[34;01mazure\u001b[39;00m\u001b[34;01m.\u001b[39;00m\u001b[34;01msearch\u001b[39;00m\u001b[34;01m.\u001b[39;00m\u001b[34;01mdocuments\u001b[39;00m\u001b[38;5;250m \u001b[39m\u001b[38;5;28;01mimport\u001b[39;00m SearchClient\n\u001b[32m      3\u001b[39m \u001b[38;5;28;01mimport\u001b[39;00m\u001b[38;5;250m \u001b[39m\u001b[34;01mos\u001b[39;00m\n",
      "\u001b[31mModuleNotFoundError\u001b[39m: No module named 'azure'"
     ]
    }
   ],
   "source": [
    "from azure.core.credentials import AzureKeyCredential\n",
    "from azure.search.documents import SearchClient\n",
    "import os\n",
    "from dotenv import load_dotenv\n",
    "import uuid  # Import the uuid module\n",
    "\n",
    "# Load environment variables\n",
    "load_dotenv()\n",
    "service_endpoint = os.environ[\"AZURE_SEARCH_SERVICE_ENDPOINT\"]\n",
    "index_name = os.environ[\"AZURE_SEARCH_INDEX_NAME\"]\n",
    "key = os.environ[\"AZURE_SEARCH_API_KEY\"]\n",
    "\n",
    "# Create a SearchClient\n",
    "search_client = SearchClient(service_endpoint, index_name, AzureKeyCredential(key))"
   ]
  },
  {
   "cell_type": "code",
   "execution_count": null,
   "metadata": {},
   "outputs": [],
   "source": [
    "def upload_bulk_documents(documents):\n",
    "    \"\"\"\n",
    "    Uploads a batch of documents to the Azure Cognitive Search index.\n",
    "    Each document in the batch will have the same unique UUID appended to its ID.\n",
    "    \n",
    "    :param documents: A list of dictionaries, where each dictionary represents a document.\n",
    "                      Each dictionary must contain the keys: \"doc_id\", \"document_name\", \"document_type\",\n",
    "                      \"document_link\", \"issuer\", \"resource_name\", and \"content\".\n",
    "    \"\"\"\n",
    "    # Generate a unique UUID for this batch of documents\n",
    "    batch_uuid = str(uuid.uuid4())  # Generate a UUID for the batch\n",
    "    \n",
    "    # Prepare the documents for upload\n",
    "    upload_documents = []\n",
    "    for doc in documents:\n",
    "        # Append the batch UUID to the document ID\n",
    "        unique_doc_id = f\"{doc['doc_id']}_{batch_uuid}\"\n",
    "        \n",
    "        # Create the document dictionary\n",
    "        document = {\n",
    "            \"id\": unique_doc_id,  # Use the unique document ID\n",
    "            \"document_name\": doc[\"document_name\"],\n",
    "            \"document_type\": doc[\"document_type\"],\n",
    "            \"document_link\": doc[\"document_link\"],\n",
    "            \"issuer\": doc[\"issuer\"],\n",
    "            \"resource_name\": doc[\"resource_name\"],\n",
    "            \"content\": doc[\"content\"]\n",
    "        }\n",
    "        \n",
    "        # Add the document to the upload list\n",
    "        upload_documents.append(document)\n",
    "    \n",
    "    # Upload the batch of documents\n",
    "    search_client.upload_documents(documents=upload_documents)\n",
    "    print(f\"Uploaded {len(upload_documents)} documents with batch UUID: {batch_uuid}\")"
   ]
  },
  {
   "cell_type": "code",
   "execution_count": null,
   "metadata": {},
   "outputs": [],
   "source": [
    "# Example usage\n",
    "# Format the input for bulk upload\n",
    "documents_to_upload = [\n",
    "    {\n",
    "        \"doc_id\": \"1\",  # Replace with the ID of the document\n",
    "        \"document_name\": \"Document 1\",\n",
    "        \"document_type\": \"Type A\",\n",
    "        \"document_link\": \"https://example.com/document1\",\n",
    "        \"issuer\": \"Issuer 1\",\n",
    "        \"resource_name\": \"Resource 1\",\n",
    "        \"content\": \"This is the content of Document 1.\"\n",
    "    },\n",
    "    {\n",
    "        \"doc_id\": \"2\",  # Replace with the ID of the document\n",
    "        \"document_name\": \"Document 2\",\n",
    "        \"document_type\": \"Type B\",\n",
    "        \"document_link\": \"https://example.com/document2\",\n",
    "        \"issuer\": \"Issuer 2\",\n",
    "        \"resource_name\": \"Resource 2\",\n",
    "        \"content\": \"This is the content of Document 2.\"\n",
    "    }\n",
    "]\n",
    "\n",
    "# Call the bulk upload function\n",
    "upload_bulk_documents(documents_to_upload)"
   ]
  }
 ],
 "metadata": {
  "kernelspec": {
   "display_name": "Python 3",
   "language": "python",
   "name": "python3"
  },
  "language_info": {
   "codemirror_mode": {
    "name": "ipython",
    "version": 3
   },
   "file_extension": ".py",
   "mimetype": "text/x-python",
   "name": "python",
   "nbconvert_exporter": "python",
   "pygments_lexer": "ipython3",
   "version": "3.13.2"
  }
 },
 "nbformat": 4,
 "nbformat_minor": 2
}
